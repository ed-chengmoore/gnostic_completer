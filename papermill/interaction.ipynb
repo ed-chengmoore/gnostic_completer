{
 "cells": [
  {
   "cell_type": "code",
   "execution_count": 1,
   "metadata": {},
   "outputs": [],
   "source": [
    "from transformers import AutoTokenizer, AutoModelForCausalLM\n",
    "\n",
    "# Load the fine-tuned model and tokenizer\n",
    "model_path = \"./fine_tuned_gpt2\"  # Path where your model is saved\n",
    "tokenizer = AutoTokenizer.from_pretrained(model_path)\n",
    "model = AutoModelForCausalLM.from_pretrained(model_path)\n",
    "\n",
    "# Ensure the model recognizes the pad token if you added one\n",
    "if tokenizer.pad_token is None:\n",
    "    tokenizer.pad_token = tokenizer.eos_token\n"
   ]
  },
  {
   "cell_type": "code",
   "execution_count": 4,
   "metadata": {},
   "outputs": [],
   "source": [
    "import torch\n",
    "\n",
    "def generate_response(prompt, model, tokenizer, max_length=100, temperature=0.7):\n",
    "    # Encode the prompt\n",
    "    input_ids = tokenizer.encode(prompt, return_tensors='pt')\n",
    "    \n",
    "    # Create attention mask: 1 for real tokens, 0 for padding (even if pad token is eos)\n",
    "    attention_mask = torch.ones(input_ids.shape, device=input_ids.device)\n",
    "    \n",
    "    # Generate response from the model\n",
    "    output = model.generate(\n",
    "        input_ids=input_ids,\n",
    "        attention_mask=attention_mask,  # Pass attention mask to avoid unexpected behavior\n",
    "        max_length=max_length,\n",
    "        num_return_sequences=1,\n",
    "        temperature=temperature,  # Controls randomness\n",
    "        top_p=0.95,               # Nucleus sampling\n",
    "        top_k=50,                 # Top-k sampling\n",
    "        do_sample=True,           # Enables sampling\n",
    "        pad_token_id=tokenizer.eos_token_id  # Set padding token ID to eos token ID\n",
    "    )\n",
    "\n",
    "    # Decode the generated text\n",
    "    response = tokenizer.decode(output[0], skip_special_tokens=True)\n",
    "    return response\n"
   ]
  },
  {
   "cell_type": "code",
   "execution_count": 5,
   "metadata": {},
   "outputs": [
    {
     "name": "stdout",
     "output_type": "stream",
     "text": [
      "User: Explain the Gnostic concept of\n",
      "Model: Explain the Gnostic concept of the \"gods\" and the \"gods of the world.\" It is a good idea to understand and read this book of scripture, as it is a very good book, as it is a good book for everyone.\n",
      "\n",
      "[1] See also p. 22 of the first chapter of the book of the Book of the Gnostic, p. 26, and p. 27 of the second chapter.\n",
      "[2] For a full description of the\n"
     ]
    }
   ],
   "source": [
    "# Example usage\n",
    "prompt = \"Explain the Gnostic concept of\"\n",
    "response = generate_response(prompt, model, tokenizer)\n",
    "\n",
    "print(\"User:\", prompt)\n",
    "print(\"Model:\", response)"
   ]
  }
 ],
 "metadata": {
  "kernelspec": {
   "display_name": "env",
   "language": "python",
   "name": "python3"
  },
  "language_info": {
   "codemirror_mode": {
    "name": "ipython",
    "version": 3
   },
   "file_extension": ".py",
   "mimetype": "text/x-python",
   "name": "python",
   "nbconvert_exporter": "python",
   "pygments_lexer": "ipython3",
   "version": "3.12.6"
  }
 },
 "nbformat": 4,
 "nbformat_minor": 2
}
